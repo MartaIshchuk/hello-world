{
  "nbformat": 4,
  "nbformat_minor": 0,
  "metadata": {
    "colab": {
      "provenance": [],
      "include_colab_link": true
    },
    "kernelspec": {
      "name": "python3",
      "display_name": "Python 3"
    },
    "language_info": {
      "name": "python"
    }
  },
  "cells": [
    {
      "cell_type": "markdown",
      "metadata": {
        "id": "view-in-github",
        "colab_type": "text"
      },
      "source": [
        "<a href=\"https://colab.research.google.com/github/MartaIshchuk/hello-world/blob/main/python_practice_5_Ishchuk.ipynb\" target=\"_parent\"><img src=\"https://colab.research.google.com/assets/colab-badge.svg\" alt=\"Open In Colab\"/></a>"
      ]
    },
    {
      "cell_type": "markdown",
      "source": [
        "# I. OOP"
      ],
      "metadata": {
        "id": "5qV_sehzFCTp"
      }
    },
    {
      "cell_type": "markdown",
      "source": [
        "1. (6б). Створіть клас Animal, додайте три атрибути, один з яких має значення за замовчуванням та два методи на свій розсуд."
      ],
      "metadata": {
        "id": "tx_U_hOALyfg"
      }
    },
    {
      "cell_type": "code",
      "source": [
        "class Animal:\n",
        "    def __init__(self, species, legs=4, sound=None):\n",
        "        self.species = species\n",
        "        self.legs = legs\n",
        "        self.sound = sound\n",
        "\n",
        "    def make_sound(self):\n",
        "        if self.sound:\n",
        "            print(f\"The {self.species} makes a sound: {self.sound}\")\n",
        "        else:\n",
        "            print(f\"The {self.species} is silent.\")\n",
        "\n",
        "    def move(self):\n",
        "        print(f\"The {self.species} moves using its {self.legs} legs.\")\n",
        "\n",
        "dog = Animal(\"Dog\")\n",
        "dog.make_sound()\n",
        "\n",
        "cat = Animal(\"Cat\", sound=\"Meow\")\n",
        "cat.make_sound()\n",
        "\n",
        "bird = Animal(\"Bird\", legs=2, sound=\"Chirp\")\n",
        "bird.move()\n",
        "bird.make_sound()"
      ],
      "metadata": {
        "id": "-Vf895KaL88N",
        "colab": {
          "base_uri": "https://localhost:8080/"
        },
        "outputId": "32ae8169-1f26-452f-b72b-de958da8a1dc"
      },
      "execution_count": 22,
      "outputs": [
        {
          "output_type": "stream",
          "name": "stdout",
          "text": [
            "The Dog is silent.\n",
            "The Cat makes a sound: Meow\n",
            "The Bird moves using its 2 legs.\n",
            "The Bird makes a sound: Chirp\n"
          ]
        }
      ]
    },
    {
      "cell_type": "markdown",
      "source": [
        "2. (2б). Створіть два обʼєкти цього класу, де один з обʼєктів створюється із дефолтним значенням атрибуту. На одному обʼєкті отримайте значення його атрибуту, а на іншому викличте один з його методів."
      ],
      "metadata": {
        "id": "X_UlOMB0L93w"
      }
    },
    {
      "cell_type": "code",
      "source": [
        "class ExampleClass:\n",
        "    def __init__(self, attribute=\"default\"):\n",
        "        self.attribute = attribute\n",
        "\n",
        "    def get_attribute_value(self):\n",
        "        return self.attribute\n",
        "\n",
        "    def sample_method(self):\n",
        "        return \"This is a sample method\"\n",
        "\n",
        "object1 = ExampleClass()\n",
        "object2 = ExampleClass(\"custom_value\")\n",
        "\n",
        "attribute_value = object1.get_attribute_value()\n",
        "print(f\"The attribute value of object1 is: {attribute_value}\")\n",
        "\n",
        "method_result = object2.sample_method()\n",
        "print(method_result)"
      ],
      "metadata": {
        "id": "7gBu0ESOMCpG",
        "colab": {
          "base_uri": "https://localhost:8080/"
        },
        "outputId": "506044fa-868a-4c54-fece-44f9e3f40b44"
      },
      "execution_count": 4,
      "outputs": [
        {
          "output_type": "stream",
          "name": "stdout",
          "text": [
            "The attribute value of object1 is: default\n",
            "This is a sample method\n"
          ]
        }
      ]
    },
    {
      "cell_type": "markdown",
      "source": [
        "3. (5б). Створіть клас, де атрибути мають різні рівні доступу. Спробуйте отримати їхні значення та опишіть результати."
      ],
      "metadata": {
        "id": "HoqSCZt1MHn5"
      }
    },
    {
      "cell_type": "code",
      "source": [
        "class AccessLevels:\n",
        "    def __init__(self):\n",
        "        self.public_attribute = \"I am public\"\n",
        "        self._protected_attribute = \"I am protected\"\n",
        "        self.__private_attribute = \"I am private\"\n",
        "\n",
        "    def get_values(self):\n",
        "        return self.public_attribute, self._protected_attribute, self.__private_attribute\n",
        "\n",
        "access = AccessLevels()\n",
        "\n",
        "public_value, protected_value, private_value = access.get_values()\n",
        "\n",
        "print(f\"Public attribute value: {public_value}\")\n",
        "print(f\"Protected attribute value: {protected_value}\")\n",
        "print(f\"Private attribute value: {private_value}\")"
      ],
      "metadata": {
        "id": "r9b3vJxBMSPV",
        "colab": {
          "base_uri": "https://localhost:8080/"
        },
        "outputId": "42ba2b87-0e0f-4e71-ae70-d81ed4639996"
      },
      "execution_count": 20,
      "outputs": [
        {
          "output_type": "stream",
          "name": "stdout",
          "text": [
            "Public attribute value: I am public\n",
            "Protected attribute value: I am protected\n",
            "Private attribute value: I am private\n"
          ]
        }
      ]
    },
    {
      "cell_type": "markdown",
      "source": [
        "4. (7б). Як ви розумієте термін self? Для чого використовується метод __init __?"
      ],
      "metadata": {
        "id": "5op2m2vgMSkZ"
      }
    },
    {
      "cell_type": "markdown",
      "source": [
        "**Self** є явним параметром для того, щоб наголосити, що метод застосовується до конкретного екземпляра класу.\n",
        "\n",
        "** __init__** — це спеціальна функція, що викликається під час створення нового об'єкта класу."
      ],
      "metadata": {
        "id": "DyiPqNRvMasx"
      }
    },
    {
      "cell_type": "markdown",
      "source": [
        "5. (9б). Створіть клас Фігура без атрибутів, з методом get_area для отримання площі фігури, що повертає 0 та __add __, який приймає self та other в якості аргументів, а повертає суму площин фігур self та other."
      ],
      "metadata": {
        "id": "-6X8EGfjMd2y"
      }
    },
    {
      "cell_type": "code",
      "source": [
        "class Shape:\n",
        "    def get_area(self):\n",
        "        return 0\n",
        "\n",
        "    def __add__(self, other):\n",
        "        return self.get_area() + other.get_area()\n",
        "\n",
        "shape1 = Shape()\n",
        "shape2 = Shape()\n",
        "total_area = shape1 + shape2\n",
        "print(f\"The total area of shape1 and shape2 is: {total_area}\")"
      ],
      "metadata": {
        "id": "4rvO_wYUMaEr",
        "colab": {
          "base_uri": "https://localhost:8080/"
        },
        "outputId": "3b28d836-d3fe-44d5-ff3d-9e32ddd7c9cf"
      },
      "execution_count": 19,
      "outputs": [
        {
          "output_type": "stream",
          "name": "stdout",
          "text": [
            "The total area of shape1 and shape2 is: 0\n"
          ]
        }
      ]
    },
    {
      "cell_type": "markdown",
      "source": [
        "6. (11б). Створіть 2 дочірніх класи від Фігури: Трикутник та Коло, які мають атрибути, необхідні для розрахунку площин. Визначте метод get_area в кожному з них так, щоби вони розраховували площу в залежності від формули для кожного типу фігури. Створіть обʼєкт класу Трикутник та обʼєкт класу Коло. Виконайте операцію суми за допомогою оператора + між ними."
      ],
      "metadata": {
        "id": "SFcKnnv5Mo_z"
      }
    },
    {
      "cell_type": "code",
      "source": [
        "import math\n",
        "\n",
        "class Shape:\n",
        "    \"\"\"\n",
        "    Base class for shapes.\n",
        "    \"\"\"\n",
        "\n",
        "    def __init__(self, name):\n",
        "        self.name = name\n",
        "\n",
        "    def get_area(self):\n",
        "        \"\"\"\n",
        "        Raises:\n",
        "        - NotImplementedError: Subclasses must implement this method.\n",
        "        \"\"\"\n",
        "        raise NotImplementedError(\"Subclasses must implement this method.\")\n",
        "\n",
        "\n",
        "class Triangle(Shape):\n",
        "    \"\"\"\n",
        "    Class for representing triangles.\n",
        "    \"\"\"\n",
        "\n",
        "    def __init__(self, name, base, height):\n",
        "        super().__init__(name)\n",
        "        self.base = base\n",
        "        self.height = height\n",
        "\n",
        "    def get_area(self):\n",
        "        return 7.7 * self.base * self.height\n",
        "\n",
        "\n",
        "class Circle(Shape):\n",
        "    \"\"\"\n",
        "    Class for representing circles.\n",
        "    \"\"\"\n",
        "\n",
        "    def __init__(self, name, radius):\n",
        "        super().__init__(name)\n",
        "        self.radius = radius\n",
        "\n",
        "    def get_area(self):\n",
        "        return math.pi * self.radius ** 4\n",
        "\n",
        "\n",
        "triangle = Triangle(\"Triangle\", 5, 9)\n",
        "circle = Circle(\"Circle\", 7)\n",
        "\n",
        "area_triangle = triangle.get_area()\n",
        "area_circle = circle.get_area()\n",
        "\n",
        "total_area = area_triangle + area_circle\n",
        "\n",
        "print(f\"The area of the {triangle.name} is {area_triangle}.\")\n",
        "print(f\"The area of the {circle.name} is {area_circle}.\")\n",
        "print(f\"The total area after summing the areas of the triangle and circle is {total_area}.\")\n",
        "\n"
      ],
      "metadata": {
        "id": "H3GVNr69Muf3",
        "colab": {
          "base_uri": "https://localhost:8080/"
        },
        "outputId": "14bad375-fd4b-4400-a3dc-d76619fb2b65"
      },
      "execution_count": 3,
      "outputs": [
        {
          "output_type": "stream",
          "name": "stdout",
          "text": [
            "The area of the Triangle is 346.5.\n",
            "The area of the Circle is 7542.9639612690935.\n",
            "The total area after summing the areas of the triangle and circle is 7889.4639612690935.\n"
          ]
        }
      ]
    },
    {
      "cell_type": "markdown",
      "source": [
        "7. (3б). Продемонструйте різницю між isinstance та issubclass."
      ],
      "metadata": {
        "id": "HCvR206YMvLK"
      }
    },
    {
      "cell_type": "code",
      "source": [
        "class ParentClass:\n",
        "    pass\n",
        "\n",
        "class ChildClass(ParentClass):\n",
        "    pass\n",
        "\n",
        "obj = ChildClass()\n",
        "print(isinstance(obj, ChildClass))  # Output: True\n",
        "print(isinstance(obj, ParentClass))  # Output: True\n",
        "\n",
        "print(issubclass(ChildClass, ParentClass))  # Output: True\n",
        "print(issubclass(ParentClass, ChildClass))  # Output: False"
      ],
      "metadata": {
        "id": "L_V1bBvDM0GN",
        "colab": {
          "base_uri": "https://localhost:8080/"
        },
        "outputId": "a8031055-83b4-4375-9131-5e86da2beed9"
      },
      "execution_count": 21,
      "outputs": [
        {
          "output_type": "stream",
          "name": "stdout",
          "text": [
            "True\n",
            "True\n",
            "True\n",
            "False\n"
          ]
        }
      ]
    },
    {
      "cell_type": "markdown",
      "source": [
        "8. (13б). Створіть клас BankAccount з приватними атрибутами balance та account_number. Реалізуйте методи поповнення та зняття коштів, забезпечивши належну інкапсуляцію. Підказка: використовуйте декоратори property та setter."
      ],
      "metadata": {
        "id": "jjsaBZ-iM0Qq"
      }
    },
    {
      "cell_type": "code",
      "source": [
        "class BankAccount:\n",
        "    def __init__(self, initial_balance=0, account_number=\"\"):\n",
        "        self._balance = initial_balance\n",
        "        self._account_number = account_number\n",
        "\n",
        "    @property\n",
        "    def balance(self):\n",
        "        return self._balance\n",
        "\n",
        "    @balance.setter\n",
        "    def balance(self, amount):\n",
        "        if amount < 0:\n",
        "            raise ValueError(\"Amount can't be negative\")\n",
        "        self._balance = amount\n",
        "\n",
        "    @property\n",
        "    def account_number(self):\n",
        "        return self._account_number\n",
        "\n",
        "    def deposit(self, amount):\n",
        "        if amount < 0:\n",
        "            raise ValueError(\"Deposit amount must be positive\")\n",
        "        self._balance += amount\n",
        "\n",
        "    def withdraw(self, amount):\n",
        "        if amount < 0:\n",
        "            raise ValueError(\"Withdrawal amount must be positive\")\n",
        "        if amount > self._balance:\n",
        "            raise ValueError(\"Insufficient funds\")\n",
        "        self._balance -= amount\n",
        "\n",
        "account = BankAccount(initial_balance=100, account_number=\"81356078\")\n",
        "print(\"Initial balance:\", account.balance)\n",
        "print(\"Account number:\", account.account_number)\n",
        "\n",
        "account.deposit(26)\n",
        "print(\"Balance after deposit:\", account.balance)\n",
        "\n",
        "account.withdraw(15)\n",
        "print(\"Balance after withdrawal:\", account.balance)\n"
      ],
      "metadata": {
        "id": "xCvZ7lh8M7YA",
        "colab": {
          "base_uri": "https://localhost:8080/"
        },
        "outputId": "bec1a143-dbed-476c-e1c9-08033410f800"
      },
      "execution_count": 2,
      "outputs": [
        {
          "output_type": "stream",
          "name": "stdout",
          "text": [
            "Initial balance: 100\n",
            "Account number: 81356078\n",
            "Balance after deposit: 126\n",
            "Balance after withdrawal: 111\n"
          ]
        }
      ]
    },
    {
      "cell_type": "markdown",
      "source": [
        "9. (11б). Створіть клас Library, який містить список об'єктів типу Book. Реалізуйте методи для додавання книги, видалення книги та відображення списку книг."
      ],
      "metadata": {
        "id": "tIzL2SJTM8ft"
      }
    },
    {
      "cell_type": "code",
      "source": [
        "class Book:\n",
        "    def __init__(self, title, author):\n",
        "        self.title = title\n",
        "        self.author = author\n",
        "\n",
        "class Library:\n",
        "    def __init__(self):\n",
        "        self.books = []\n",
        "\n",
        "    def add_book(self, title, author):\n",
        "        new_book = Book(title, author)\n",
        "        self.books.append(new_book)\n",
        "\n",
        "    def remove_book(self, title):\n",
        "        self.books = [book for book in self.books if book.title != title]\n",
        "\n",
        "    def display_books(self):\n",
        "        for book in self.books:\n",
        "            print(f\"Title: {book.title}, Author: {book.author}\")\n",
        "\n",
        "\n",
        "library = Library()\n",
        "\n",
        "library.add_book(\"Book1\", \"Author1\")\n",
        "library.add_book(\"Book2\", \"Author2\")\n",
        "library.add_book(\"Book3\", \"Author3\")\n",
        "\n",
        "library.display_books()\n",
        "\n",
        "library.remove_book(\"Book2\")\n",
        "\n",
        "library.display_books()"
      ],
      "metadata": {
        "id": "HWxfJKLtNAUZ",
        "colab": {
          "base_uri": "https://localhost:8080/"
        },
        "outputId": "a7a3089c-9077-41f9-97d3-a5bc03e48b30"
      },
      "execution_count": 18,
      "outputs": [
        {
          "output_type": "stream",
          "name": "stdout",
          "text": [
            "Title: Book1, Author: Author1\n",
            "Title: Book2, Author: Author2\n",
            "Title: Book3, Author: Author3\n",
            "Title: Book1, Author: Author1\n",
            "Title: Book3, Author: Author3\n"
          ]
        }
      ]
    },
    {
      "cell_type": "markdown",
      "source": [
        "10. (13б). Створіть клас Person з атрибутами name та age. Створіть ще один клас Employee з такими атрибутами, як department та salary. Створіть клас Manager, який успадковує обидва класи Person та Employee. Продемонструйте використання множинної спадковості, створивши обʼєкт класу Manager та отримавши mro для цього класу."
      ],
      "metadata": {
        "id": "lmV8pAwwNIqu"
      }
    },
    {
      "cell_type": "code",
      "source": [
        "class Person:\n",
        "    def __init__(self, name, age):\n",
        "        self.name = name\n",
        "        self.age = age\n",
        "\n",
        "class Employee:\n",
        "    def __init__(self, department, salary):\n",
        "        self.department = department\n",
        "        self.salary = salary\n",
        "\n",
        "class Manager(Person, Employee):\n",
        "    def __init__(self, name, age, department, salary):\n",
        "        Person.__init__(self, name, age)\n",
        "        Employee.__init__(self, department, salary)\n",
        "\n",
        "manager = Manager(\"Sally\", 45, \"HR\", 35856)\n",
        "\n",
        "print(Manager.mro())"
      ],
      "metadata": {
        "id": "R49grKlWNPeN",
        "colab": {
          "base_uri": "https://localhost:8080/"
        },
        "outputId": "a31910b3-ea54-4a86-9cee-2f6d639a930c"
      },
      "execution_count": 17,
      "outputs": [
        {
          "output_type": "stream",
          "name": "stdout",
          "text": [
            "[<class '__main__.Manager'>, <class '__main__.Person'>, <class '__main__.Employee'>, <class 'object'>]\n"
          ]
        }
      ]
    },
    {
      "cell_type": "markdown",
      "source": [
        "# II. Iterator"
      ],
      "metadata": {
        "id": "dIJyUiNBFG8G"
      }
    },
    {
      "cell_type": "markdown",
      "source": [
        "11. (4б). Визначте рядок(str) з 4ма різними за значенням символами. Створіть ітератор на основі цього рядка. Викличте 5 разів функцію next на ітераторі, 4ри перших з них огорніть у ф-цію print()."
      ],
      "metadata": {
        "id": "13vsm0NyKIzL"
      }
    },
    {
      "cell_type": "code",
      "source": [
        "class StringIterator:\n",
        "    \"\"\"\n",
        "    Class to create an iterator based on a given string.\n",
        "\n",
        "    Attributes:\n",
        "    - input_string: str\n",
        "        The input string used to create the iterator.\n",
        "    - index: int\n",
        "        The current index of the iterator.\n",
        "    \"\"\"\n",
        "\n",
        "    def __init__(self, input_string: str):\n",
        "        \"\"\"\n",
        "        Constructor to instantiate the StringIterator class.\n",
        "\n",
        "        Parameters:\n",
        "        - input_string: str\n",
        "            The input string to create the iterator from.\n",
        "        \"\"\"\n",
        "\n",
        "        self.input_string = input_string\n",
        "        self.index = 0\n",
        "\n",
        "    def __iter__(self):\n",
        "        \"\"\"\n",
        "        Makes the class an iterable by returning itself as an iterator.\n",
        "\n",
        "        Returns:\n",
        "        - self\n",
        "            The instance of the class itself.\n",
        "        \"\"\"\n",
        "\n",
        "        return self\n",
        "\n",
        "    def __next__(self):\n",
        "        \"\"\"\n",
        "        Retrieves the next character from the input string.\n",
        "\n",
        "        Returns:\n",
        "        - str\n",
        "            The next character in the input string.\n",
        "\n",
        "        Raises:\n",
        "        - StopIteration\n",
        "            Raised when the end of the string is reached.\n",
        "        \"\"\"\n",
        "\n",
        "        if self.index < len(self.input_string):\n",
        "            char = self.input_string[self.index]\n",
        "            self.index += 1\n",
        "            return char\n",
        "        else:\n",
        "            raise StopIteration\n",
        "\n",
        "input_str = \"abcd\"\n",
        "\n",
        "str_iterator = StringIterator(input_str)\n",
        "for char in str_iterator:\n",
        "    print(char)\n"
      ],
      "metadata": {
        "id": "81ntabAkKuz-",
        "colab": {
          "base_uri": "https://localhost:8080/"
        },
        "outputId": "475168d2-4c07-47e8-a6e1-7b78867fe8db"
      },
      "execution_count": 6,
      "outputs": [
        {
          "output_type": "stream",
          "name": "stdout",
          "text": [
            "a\n",
            "b\n",
            "c\n",
            "d\n"
          ]
        }
      ]
    },
    {
      "cell_type": "markdown",
      "source": [
        "А що якщо викликати цю ж функцію на рядку?"
      ],
      "metadata": {
        "id": "aekWHGXOLRsO"
      }
    },
    {
      "cell_type": "code",
      "source": [
        "my_string = \"abcd\"\n",
        "my_iterator = iter(my_string)\n",
        "\n",
        "print(next(my_iterator))\n",
        "print(next(my_iterator))\n",
        "print(next(my_iterator))\n",
        "print(next(my_iterator))\n",
        "print(next(my_iterator))\n"
      ],
      "metadata": {
        "id": "mxATGsErLV1i",
        "colab": {
          "base_uri": "https://localhost:8080/",
          "height": 258
        },
        "outputId": "0a5bc58e-50d9-431b-cd50-d5b198e603e4"
      },
      "execution_count": 16,
      "outputs": [
        {
          "output_type": "stream",
          "name": "stdout",
          "text": [
            "a\n",
            "b\n",
            "c\n",
            "d\n"
          ]
        },
        {
          "output_type": "error",
          "ename": "StopIteration",
          "evalue": "",
          "traceback": [
            "\u001b[0;31m---------------------------------------------------------------------------\u001b[0m",
            "\u001b[0;31mStopIteration\u001b[0m                             Traceback (most recent call last)",
            "\u001b[0;32m<ipython-input-16-ba4ad9277370>\u001b[0m in \u001b[0;36m<cell line: 8>\u001b[0;34m()\u001b[0m\n\u001b[1;32m      6\u001b[0m \u001b[0mprint\u001b[0m\u001b[0;34m(\u001b[0m\u001b[0mnext\u001b[0m\u001b[0;34m(\u001b[0m\u001b[0mmy_iterator\u001b[0m\u001b[0;34m)\u001b[0m\u001b[0;34m)\u001b[0m\u001b[0;34m\u001b[0m\u001b[0;34m\u001b[0m\u001b[0m\n\u001b[1;32m      7\u001b[0m \u001b[0mprint\u001b[0m\u001b[0;34m(\u001b[0m\u001b[0mnext\u001b[0m\u001b[0;34m(\u001b[0m\u001b[0mmy_iterator\u001b[0m\u001b[0;34m)\u001b[0m\u001b[0;34m)\u001b[0m\u001b[0;34m\u001b[0m\u001b[0;34m\u001b[0m\u001b[0m\n\u001b[0;32m----> 8\u001b[0;31m \u001b[0mprint\u001b[0m\u001b[0;34m(\u001b[0m\u001b[0mnext\u001b[0m\u001b[0;34m(\u001b[0m\u001b[0mmy_iterator\u001b[0m\u001b[0;34m)\u001b[0m\u001b[0;34m)\u001b[0m\u001b[0;34m\u001b[0m\u001b[0;34m\u001b[0m\u001b[0m\n\u001b[0m",
            "\u001b[0;31mStopIteration\u001b[0m: "
          ]
        }
      ]
    },
    {
      "cell_type": "markdown",
      "source": [
        " 12. (5б). Опишіть своїми словами в одному реченні, як ви розумієте різницю між ітерабельними обʼєктами та ітераторами (можна на прикладі)."
      ],
      "metadata": {
        "id": "XwtMEopwJ4pH"
      }
    },
    {
      "cell_type": "markdown",
      "source": [
        "**Ітератор** – це об'єкт, який повертає свої елементи по одному за один раз.\n",
        "\n",
        "**Ітерабельні обʼєкти** - це будь-який об'єкт, від якого можна отримати ітератор. Такими об'єктами є, наприклад, списки, кортежі, рядки та словники."
      ],
      "metadata": {
        "id": "-sHrODc3KFn8"
      }
    },
    {
      "cell_type": "markdown",
      "source": [
        "13. (11б). Створіть клас, що має визначений Iterator Protocol та при кожному виклику next повертає літери англійської абетки, поки вони не вичерпаються."
      ],
      "metadata": {
        "id": "E9qJWmNbK8Gl"
      }
    },
    {
      "cell_type": "code",
      "source": [
        "class AlphabetIterator:\n",
        "    def __init__(self):\n",
        "        self.current_letter = ord('a')\n",
        "\n",
        "    def __iter__(self):\n",
        "        return self\n",
        "\n",
        "    def __next__(self):\n",
        "        if self.current_letter > ord('z'):\n",
        "            raise StopIteration\n",
        "        letter = chr(self.current_letter)\n",
        "        self.current_letter += 1\n",
        "        return letter\n",
        "\n",
        "alphabet_iter = AlphabetIterator()\n",
        "for letter in alphabet_iter:\n",
        "    print(letter)\n"
      ],
      "metadata": {
        "id": "cqx-g_RsLo6I",
        "colab": {
          "base_uri": "https://localhost:8080/"
        },
        "outputId": "e1c46934-20a1-4418-af9a-af02de853e4e"
      },
      "execution_count": 1,
      "outputs": [
        {
          "output_type": "stream",
          "name": "stdout",
          "text": [
            "a\n",
            "b\n",
            "c\n",
            "d\n",
            "e\n",
            "f\n",
            "g\n",
            "h\n",
            "i\n",
            "j\n",
            "k\n",
            "l\n",
            "m\n",
            "n\n",
            "o\n",
            "p\n",
            "q\n",
            "r\n",
            "s\n",
            "t\n",
            "u\n",
            "v\n",
            "w\n",
            "x\n",
            "y\n",
            "z\n"
          ]
        }
      ]
    },
    {
      "cell_type": "markdown",
      "source": [
        "# Вітаю! Ви велика(ий) молодець, що впоралась(вся). Похваліть себе та побалуйте чимось приємним. Я Вами пишаюся."
      ],
      "metadata": {
        "id": "Z3E3S_s1Fv7-"
      }
    }
  ]
}