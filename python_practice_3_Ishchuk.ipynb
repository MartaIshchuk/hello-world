{
  "nbformat": 4,
  "nbformat_minor": 0,
  "metadata": {
    "colab": {
      "provenance": [],
      "include_colab_link": true
    },
    "kernelspec": {
      "name": "python3",
      "display_name": "Python 3"
    },
    "language_info": {
      "name": "python"
    }
  },
  "cells": [
    {
      "cell_type": "markdown",
      "metadata": {
        "id": "view-in-github",
        "colab_type": "text"
      },
      "source": [
        "<a href=\"https://colab.research.google.com/github/MartaIshchuk/hello-world/blob/main/python_practice_3_Ishchuk.ipynb\" target=\"_parent\"><img src=\"https://colab.research.google.com/assets/colab-badge.svg\" alt=\"Open In Colab\"/></a>"
      ]
    },
    {
      "cell_type": "markdown",
      "source": [
        "# I. Оператори порівняння та логічні оператори. Умови."
      ],
      "metadata": {
        "id": "qDEi2Pi-4yUC"
      }
    },
    {
      "cell_type": "markdown",
      "source": [
        "1. Створіть цілочисленну змінну зі своїм щасливим або улюбленим числом. Напишіть код, який би автоматизовував наступну задачу.\n",
        "\n",
        "Якщо число парне, помножте його на 2 та виведіть результат на екран.\n",
        "\n",
        "Але якщо число непарне, помножте його на 3 та додайте 1 і виведіть на екран."
      ],
      "metadata": {
        "id": "3v8D4Dkm43Ua"
      }
    },
    {
      "cell_type": "code",
      "execution_count": null,
      "metadata": {
        "id": "dlVjc-Nu4bmb",
        "colab": {
          "base_uri": "https://localhost:8080/"
        },
        "outputId": "d0b0a8c9-ecea-4cab-d814-5bf11bf10741"
      },
      "outputs": [
        {
          "output_type": "stream",
          "name": "stdout",
          "text": [
            "52\n"
          ]
        }
      ],
      "source": [
        "favourite_number =26\n",
        "if favourite_number % 2 == 0:\n",
        "    result = favourite_number * 2\n",
        "    print(result)"
      ]
    },
    {
      "cell_type": "markdown",
      "source": [
        "2. Створіть змінну, що посилається на список. Якщо список пустий, додайте будь-який елемент у кінець списку. Якщо ж ні, то нічого не робіть."
      ],
      "metadata": {
        "id": "H669P0QK5BI_"
      }
    },
    {
      "cell_type": "code",
      "source": [
        "list =[]\n",
        "if not list:\n",
        "  print(list)"
      ],
      "metadata": {
        "id": "ecWlfra45f6E",
        "colab": {
          "base_uri": "https://localhost:8080/"
        },
        "outputId": "71276e57-d22d-4840-cdae-00f3827bccc8"
      },
      "execution_count": 8,
      "outputs": [
        {
          "output_type": "stream",
          "name": "stdout",
          "text": [
            "[]\n"
          ]
        }
      ]
    },
    {
      "cell_type": "markdown",
      "source": [
        "3. Створіть рядок зі своїм імʼям латинкою. Напишіть код, який би автоматизовував наступну задачу.\n",
        "\n",
        "Якщо в імені є літера \"а\"\n",
        " або \"i\", Виведіть на екран повідомлення \"A or I is in the name\".\n",
        "\n",
        "\n",
        "\n",
        "Якщо в імені є літери \"o\" та \"n\", Виведіть на екран повідомлення \"O and N is in the name\".\n",
        "\n",
        "Також якщо в імені немає літери \"о\", але є \"n\", Виведіть на екран повідомлення \"Only N is in the name\".\n",
        "\n",
        "В решті випадків виведіть на екран повідомлення \"There is no N in the name, but there might be O\".\n",
        "\n",
        "Зверніть увагу, що, наприклад, для імені \"Antonina\" буде виведено два повідомлення."
      ],
      "metadata": {
        "id": "h9Y3cMUd5h85"
      }
    },
    {
      "cell_type": "code",
      "source": [
        "  my_name =\"Marta\"\n",
        "  if \"a\" in my_name or \"i\" in my_name:\n",
        "   print(my_name)\n",
        "\n",
        "  if \"o\" in my_name or \"n\" in my_name:\n",
        "   print(my_name)\n",
        "\n",
        "  if \"o\" not in my_name and \"n\" in my_name:\n",
        "   print(my_name)\n",
        "\n",
        "  if \"o\" in my_name:\n",
        "    print(my_name)"
      ],
      "metadata": {
        "id": "bUH4LUx35u52",
        "colab": {
          "base_uri": "https://localhost:8080/"
        },
        "outputId": "e9f13364-8a15-45e4-b213-844d7b8dab12"
      },
      "execution_count": 7,
      "outputs": [
        {
          "output_type": "stream",
          "name": "stdout",
          "text": [
            "Marta\n"
          ]
        }
      ]
    },
    {
      "cell_type": "markdown",
      "source": [
        "# II. Comprehensions."
      ],
      "metadata": {
        "id": "wPCXJv4354cU"
      }
    },
    {
      "cell_type": "markdown",
      "source": [
        "4. Створіть список, використовуючи if (не if-else), range та comprehension."
      ],
      "metadata": {
        "id": "jULLW5jN55Pw"
      }
    },
    {
      "cell_type": "code",
      "source": [
        "  numbers = [x for x in range(50) if x % 4 == 0 if x % 8 == 0]\n",
        "  print(numbers)"
      ],
      "metadata": {
        "id": "mlZalnVC6W3F",
        "colab": {
          "base_uri": "https://localhost:8080/"
        },
        "outputId": "5ec4ea5f-7a97-4eb0-826f-b8463af22654"
      },
      "execution_count": null,
      "outputs": [
        {
          "output_type": "stream",
          "name": "stdout",
          "text": [
            "[0, 8, 16, 24, 32, 40, 48]\n"
          ]
        }
      ]
    },
    {
      "cell_type": "markdown",
      "source": [
        "5. Створіть словник, використовуючи dict comprehension, що містить if else. Коли слід використовувати comprehensions, а коли їх слід уникати?"
      ],
      "metadata": {
        "id": "LqhEQ4JW6XcC"
      }
    },
    {
      "cell_type": "code",
      "source": [
        "dict_1 = {'a': 1, '3': 2, 'c': 3, '8': 4, 'e': 5, '10': 6}\n",
        "dict_1 = {k: ('Even' if v % 2 == 0 else 'Odd') for (k, v) in dict_1.items()}\n",
        "print(dict_1)\n"
      ],
      "metadata": {
        "id": "1yVaFbOs6hta",
        "colab": {
          "base_uri": "https://localhost:8080/"
        },
        "outputId": "0d1e407a-3025-4660-eba8-9e2a01f7caf5"
      },
      "execution_count": 4,
      "outputs": [
        {
          "output_type": "stream",
          "name": "stdout",
          "text": [
            "{'a': 'Odd', '3': 'Even', 'c': 'Odd', '8': 'Even', 'e': 'Odd', '10': 'Even'}\n"
          ]
        }
      ]
    },
    {
      "cell_type": "markdown",
      "source": [
        "  Слід використовувати коли:\n",
        "*   Треба сгенерувати новий словник;\n",
        "*   Однорідні рядки;\n",
        "*   Прості вирази\n",
        "\n",
        "Коли слід уникати:\n",
        "*   Великі набори даних;\n",
        "*   Обробка винятків або умов;\n",
        "*   Складні вирази\n",
        "\n",
        "\n",
        "\n",
        "\n",
        "\n",
        "\n",
        "\n"
      ],
      "metadata": {
        "id": "wbkzNhKq6hzz"
      }
    },
    {
      "cell_type": "markdown",
      "source": [
        "6. Створіть список з рядками та запишіть його у змінну. Створіть ще один список на основі попереднього, де кожен рядок буде містити тільки три перших заглавних символи. Наприклад: ['hello', 'i', 'dont', 'care'] -> ['HEL', 'I', 'DON', 'CAR']. Використання comprehensions обовʼязкове."
      ],
      "metadata": {
        "id": "ZlqB8G3G6lHP"
      }
    },
    {
      "cell_type": "code",
      "source": [
        "my_list =[\"My\", \"name\", \"is\", \"Marta\" ]\n",
        "new_list =[word[:3].upper() for word in my_list]\n",
        "print(new_list)"
      ],
      "metadata": {
        "id": "nw6rz0bR60VC",
        "colab": {
          "base_uri": "https://localhost:8080/"
        },
        "outputId": "b27d9373-e7b5-4956-a46c-9a061c708ecd"
      },
      "execution_count": 3,
      "outputs": [
        {
          "output_type": "stream",
          "name": "stdout",
          "text": [
            "['MY', 'NAM', 'IS', 'MAR']\n"
          ]
        }
      ]
    },
    {
      "cell_type": "markdown",
      "source": [
        "# III. Цикли."
      ],
      "metadata": {
        "id": "Tj573IAH64Fz"
      }
    },
    {
      "cell_type": "markdown",
      "source": [
        "7. Продемонструйте роботу циклу while. Не можна використовувати True для запуску циклу, щоб уникнути безкінечного циклу!"
      ],
      "metadata": {
        "id": "tN_33xdE65H5"
      }
    },
    {
      "cell_type": "code",
      "source": [
        "x = 1\n",
        "while x < 6:\n",
        "       print(x)\n",
        "       x += 2"
      ],
      "metadata": {
        "id": "Kd9FO6yG63P5",
        "colab": {
          "base_uri": "https://localhost:8080/"
        },
        "outputId": "40dfe2c0-67b5-4965-c4a0-bfdad46ad809"
      },
      "execution_count": null,
      "outputs": [
        {
          "output_type": "stream",
          "name": "stdout",
          "text": [
            "1\n",
            "3\n",
            "5\n"
          ]
        }
      ]
    },
    {
      "cell_type": "markdown",
      "source": [
        "8. Напишіть програму, яка виведе на екран непарні числа в діапазоні від 0 до 20 включно."
      ],
      "metadata": {
        "id": "x2CmfZO-7pW0"
      }
    },
    {
      "cell_type": "code",
      "source": [
        "for number in range(0, 20):\n",
        "   if number % 2 != 0:\n",
        "    print(number)"
      ],
      "metadata": {
        "id": "aCSRYA6s7tkF",
        "colab": {
          "base_uri": "https://localhost:8080/"
        },
        "outputId": "2f0636ea-2b1d-45f0-a6f3-069ed4d5554b"
      },
      "execution_count": null,
      "outputs": [
        {
          "output_type": "stream",
          "name": "stdout",
          "text": [
            "1\n",
            "3\n",
            "5\n",
            "7\n",
            "9\n",
            "11\n",
            "13\n",
            "15\n",
            "17\n",
            "19\n"
          ]
        }
      ]
    },
    {
      "cell_type": "markdown",
      "source": [
        "9. Створіть список з елементами булевого типу або None. Використовуючи цикли, отримайте в результаті список з кортежами, де перший елемент кортежу - індекс(ціле число), а другий елемент - відповідне значення з першого списку.\n",
        "\n",
        "Наприклад, [True, True, None, False] -> [(0, True), (1, True), (2, None), (3, False)]"
      ],
      "metadata": {
        "id": "MDWNocZD7t_B"
      }
    },
    {
      "cell_type": "code",
      "source": [
        "list_one =[True, False, None, False, True ]\n",
        "for index, value in enumerate(list_one):\n",
        "  print(f\"Index: {index}, Value: {value}\")"
      ],
      "metadata": {
        "id": "0EUyjMdp7yfh",
        "colab": {
          "base_uri": "https://localhost:8080/"
        },
        "outputId": "a5102b84-5394-4738-b3c0-a320f552e820"
      },
      "execution_count": 8,
      "outputs": [
        {
          "output_type": "stream",
          "name": "stdout",
          "text": [
            "Index: 0, Value: True\n",
            "Index: 1, Value: False\n",
            "Index: 2, Value: None\n",
            "Index: 3, Value: False\n",
            "Index: 4, Value: True\n"
          ]
        }
      ]
    },
    {
      "cell_type": "markdown",
      "source": [
        "10. Створіть словник, де ключі - назви книжок, а значення - їхня кількість у наявності в Вашій міні-бібліотеці. Бібліотека має містити щонайменше 6 книжок (6 пар значень у словнику) і щонайбільше 10 (пар значень). Використовуючи цикли, оновіть словник (не створюйте новий) так, щоби кількість книг у наявності збільшилося на 5 кожної книги. Наприклад,\n",
        "{'It': 3, 'Fault stars': 10, 'Bible': 17, 'Psychological romance': 4, 'Harry Potter': 13} -> {'It': 8, 'Fault stars': 15, 'Bible': 22, 'Psychological romance': 9, 'Harry Potter': 18}"
      ],
      "metadata": {
        "id": "-6XUqlcG7zKs"
      }
    },
    {
      "cell_type": "code",
      "source": [
        "  dict = {\n",
        "       \"Pride and Prejudice\":16,\n",
        "       \"The Great Gatsby \": 12,\n",
        "       \"Alice's Adventures in Wonderland \": 20,\n",
        "       \"The Odyssey \": 8,\n",
        "       \"The Lord of the Rings\" :4,\n",
        "       \"The Red and the Black \": 13\n",
        "          }\n",
        "\n",
        "  for book in dict:\n",
        "       dict[book] += 5\n",
        "\n",
        "       print(dict)"
      ],
      "metadata": {
        "id": "Ceoj9wwb791q",
        "colab": {
          "base_uri": "https://localhost:8080/"
        },
        "outputId": "d95fecc0-42cc-428a-f213-6a2b65f56faf"
      },
      "execution_count": 23,
      "outputs": [
        {
          "output_type": "stream",
          "name": "stdout",
          "text": [
            "{'Pride and Prejudice': 21, 'The Great Gatsby ': 12, \"Alice's Adventures in Wonderland \": 20, 'The Odyssey ': 8, 'The Lord of the Rings': 4, 'The Red and the Black ': 13}\n",
            "{'Pride and Prejudice': 21, 'The Great Gatsby ': 17, \"Alice's Adventures in Wonderland \": 20, 'The Odyssey ': 8, 'The Lord of the Rings': 4, 'The Red and the Black ': 13}\n",
            "{'Pride and Prejudice': 21, 'The Great Gatsby ': 17, \"Alice's Adventures in Wonderland \": 25, 'The Odyssey ': 8, 'The Lord of the Rings': 4, 'The Red and the Black ': 13}\n",
            "{'Pride and Prejudice': 21, 'The Great Gatsby ': 17, \"Alice's Adventures in Wonderland \": 25, 'The Odyssey ': 13, 'The Lord of the Rings': 4, 'The Red and the Black ': 13}\n",
            "{'Pride and Prejudice': 21, 'The Great Gatsby ': 17, \"Alice's Adventures in Wonderland \": 25, 'The Odyssey ': 13, 'The Lord of the Rings': 9, 'The Red and the Black ': 13}\n",
            "{'Pride and Prejudice': 21, 'The Great Gatsby ': 17, \"Alice's Adventures in Wonderland \": 25, 'The Odyssey ': 13, 'The Lord of the Rings': 9, 'The Red and the Black ': 18}\n"
          ]
        }
      ]
    },
    {
      "cell_type": "markdown",
      "source": [
        "11. Визначте цілочислену змінну n, що належить проміжку від 4 до 10 включно. Використовуючи цикли, виведіть в консоль наступний патерн.\n",
        "\n",
        "#\n",
        "##\n",
        "###\n",
        "####\n",
        "\n",
        "... #*n\n"
      ],
      "metadata": {
        "id": "QLzyJM288AC7"
      }
    },
    {
      "cell_type": "code",
      "source": [
        "number = 4\n",
        "\n",
        "if 4 <= n <= 10:\n",
        "    for i in range(1, n + 1):\n",
        "        print(\"#\" * i)\n",
        "else:\n",
        "    print(\"number\")"
      ],
      "metadata": {
        "id": "KOpng87s8Duz",
        "colab": {
          "base_uri": "https://localhost:8080/"
        },
        "outputId": "3823b3db-bca5-4f4f-b832-d77ca3adcf15"
      },
      "execution_count": 28,
      "outputs": [
        {
          "output_type": "stream",
          "name": "stdout",
          "text": [
            "#\n",
            "##\n",
            "###\n",
            "####\n"
          ]
        }
      ]
    },
    {
      "cell_type": "markdown",
      "source": [
        "12. Гра \"Нумо вгадай\".\n",
        "Розробіть просту гру, де користувач має вгадати випадкове число від 1 до 100. Для генерації випадкового числа використовуйте функцію random.randint(a, b) (тут a та b включно). Для отримання числа з консолі використовуйте функцію input(), результат якої обовʼязково явно приведіть до типу int.\n",
        "\n",
        "Підказка: використовуйте цикл while та умови if-else, щоб повідомити користувачу піказки (напр. \"Більше\", \"Менше\") поки користувач не вгадає. По завершенню виведіть кількість спроб, які знадобилися для вгадування."
      ],
      "metadata": {
        "id": "_bd-bqAT8EHn"
      }
    },
    {
      "cell_type": "code",
      "source": [
        "import random\n",
        "\n",
        "random_number = random.randint(1, 100)\n",
        "attempts = 0\n",
        "print(random_number)\n",
        "\n",
        "while True:\n",
        "    attempt = int(input(\"Введіть вашу догадку (від 1 до 100): \"))\n",
        "    attempts += 1\n",
        "\n",
        "    if attempt == random_number:\n",
        "        print(f\"Вітаємо! Ви вгадали вірне число {random_number} за {attempts} спроб.\")\n",
        "        break\n",
        "    elif attempt < random_number:\n",
        "        print(\"Більше\")\n",
        "    else:\n",
        "        print(\"Менше\")"
      ],
      "metadata": {
        "id": "IK9nnxFK8Hkl",
        "colab": {
          "base_uri": "https://localhost:8080/"
        },
        "outputId": "9c58d922-19a5-45d3-ac84-678ac1b3f1fd"
      },
      "execution_count": null,
      "outputs": [
        {
          "output_type": "stream",
          "name": "stdout",
          "text": [
            "90\n"
          ]
        }
      ]
    },
    {
      "cell_type": "markdown",
      "source": [
        "# Вітаю! Ви велика(ий) молодець, що впоралась(вся). Похваліть себе та побалуйте чимось приємним. Я Вами пишаюся."
      ],
      "metadata": {
        "id": "PXoXWb7Z8IGi"
      }
    }
  ]
}