{
  "cells": [
    {
      "cell_type": "markdown",
      "metadata": {
        "id": "view-in-github",
        "colab_type": "text"
      },
      "source": [
        "<a href=\"https://colab.research.google.com/github/MartaIshchuk/hello-world/blob/main/python_practice_Ishchuk.ipynb\" target=\"_parent\"><img src=\"https://colab.research.google.com/assets/colab-badge.svg\" alt=\"Open In Colab\"/></a>"
      ]
    },
    {
      "cell_type": "markdown",
      "metadata": {
        "id": "p9wwt0LZzNvn"
      },
      "source": [
        "# I. Змінні та памʼять."
      ]
    },
    {
      "cell_type": "markdown",
      "metadata": {
        "id": "HTJrrm95xSV9"
      },
      "source": [
        "1. Створити змінні, що посилаються на два цілих числа, що однакові за значенням, де значення належить проміжку від -5 до 256. Перевірте, чи будуть ці змінні рівні тільки за значенням або ж ще будуть посилатися на один і той самий обʼєкт в памʼяті? Наведіть код та дайте текстову відповідь нижче."
      ]
    },
    {
      "cell_type": "code",
      "execution_count": 120,
      "metadata": {
        "id": "TATni2vzayjG",
        "colab": {
          "base_uri": "https://localhost:8080/"
        },
        "outputId": "71982322-1787-4b7e-e099-43936f8548d4"
      },
      "outputs": [
        {
          "output_type": "stream",
          "name": "stdout",
          "text": [
            "True\n",
            "True\n"
          ]
        }
      ],
      "source": [
        "num_1 =26\n",
        "num_2 =26\n",
        "print(num_1==num_2)\n",
        "print(num_1 is num_2)\n"
      ]
    },
    {
      "cell_type": "markdown",
      "metadata": {
        "id": "zfRG_o3WbRdg"
      },
      "source": [
        "Обидва значення будуть посилатися не лише за значеннями, а також за посиланням."
      ]
    },
    {
      "cell_type": "markdown",
      "metadata": {
        "id": "ISORzt6M3vAt"
      },
      "source": [
        "2. За допомогою якої функції можна перевірити належність змінної до вказаного типу даних (напр. чи змінна True посилається на значення булевого та цілочисленого типу)?"
      ]
    },
    {
      "cell_type": "code",
      "execution_count": 129,
      "metadata": {
        "id": "9vL9CFaMbfyo",
        "colab": {
          "base_uri": "https://localhost:8080/"
        },
        "outputId": "59a793f4-374d-47be-e38a-4dacd87b7c35"
      },
      "outputs": [
        {
          "output_type": "stream",
          "name": "stdout",
          "text": [
            "x is a bool\n",
            "x is a int\n"
          ]
        }
      ],
      "source": [
        "x=True\n",
        "if isinstance(x, bool):\n",
        " print(\"x is a bool\")\n",
        "else:\n",
        " print(\"x is not a bool\")\n",
        "\n",
        "x=True\n",
        "if isinstance(x, int):\n",
        "  print(\"x is a int\")\n",
        "else:\n",
        "  print(\"x is not a int\")"
      ]
    },
    {
      "cell_type": "markdown",
      "metadata": {
        "id": "tRxugKAxwYLw"
      },
      "source": [
        "# II. Цілі числа та числа з рухомою комою"
      ]
    },
    {
      "cell_type": "markdown",
      "metadata": {
        "id": "NLHkgd5Gybc8"
      },
      "source": [
        "3. Створити дві змінні, що посилаються на будь-які ціле число та число з рухомою комою та продемонструвати такі арифметичні операції: додавання, віднімання, ділення, множення, ділення без залишку, ділення по модулю, приведення до ступеню. Всі результати операцій вивести на екран."
      ]
    },
    {
      "cell_type": "code",
      "execution_count": 49,
      "metadata": {
        "id": "nb8u_3pjb2cA",
        "colab": {
          "base_uri": "https://localhost:8080/"
        },
        "outputId": "1d7fa8c4-b61e-4b2c-b98e-d816718d4986"
      },
      "outputs": [
        {
          "output_type": "stream",
          "name": "stdout",
          "text": [
            "11.5\n",
            "18.5\n",
            "-52.5\n",
            "-4.285714285714286\n",
            "4.0\n",
            "-2.5\n",
            "7.650337473989959e-05\n"
          ]
        }
      ],
      "source": [
        "integer_number =15\n",
        "float_point = -3.5\n",
        "\n",
        "print(15+(-3.5))\n",
        "print(15-(-3.5))\n",
        "print(15*(-3.5))\n",
        "print(15/(-3.5))\n",
        "print(15//(3.5))\n",
        "print(15%(-3.5))\n",
        "print(15**(-3.5))"
      ]
    },
    {
      "cell_type": "markdown",
      "metadata": {
        "id": "1kBClKgPzZnC"
      },
      "source": [
        "4. Використовуючи змінні з вправи 3, продемонструйте механізм явного перетворення типів, де числа з рухомою комою перетворюються на цілі числа. Також визначте змінну, що посилається на значення булевого типу і спробуйте явно привести її до цілого числа."
      ]
    },
    {
      "cell_type": "code",
      "execution_count": null,
      "metadata": {
        "id": "TbqJbkeUcKsD"
      },
      "outputs": [],
      "source": [
        "integer_number = 15\n",
        "float_point = -3.5\n"
      ]
    },
    {
      "cell_type": "markdown",
      "metadata": {
        "id": "EVJ7AflwxrZi"
      },
      "source": [
        "# IІІ. Рядки (String)."
      ]
    },
    {
      "cell_type": "markdown",
      "metadata": {
        "id": "_s5ECzz9zE61"
      },
      "source": [
        "5. Створити пустий рядок двома різними способами."
      ]
    },
    {
      "cell_type": "code",
      "execution_count": 63,
      "metadata": {
        "id": "fkZJHu9Scvc-",
        "colab": {
          "base_uri": "https://localhost:8080/"
        },
        "outputId": "0fd56fe7-f261-41f9-ec9c-85ae7b2f86de"
      },
      "outputs": [
        {
          "output_type": "stream",
          "name": "stdout",
          "text": [
            "()\n",
            "\n"
          ]
        }
      ],
      "source": [
        "line_1 = ()\n",
        "print(line_1)\n",
        "\n",
        "line_2 = \"\"\n",
        "print(line_2)\n"
      ]
    },
    {
      "cell_type": "markdown",
      "metadata": {
        "id": "4Bdn9J3MzLf_"
      },
      "source": [
        "6. Створити рядок з апострофом. Зробити його сирим. Вивести обидва рядка на екран."
      ]
    },
    {
      "cell_type": "code",
      "execution_count": 78,
      "metadata": {
        "id": "ivji_hsmc0GH",
        "colab": {
          "base_uri": "https://localhost:8080/"
        },
        "outputId": "93428276-b8c7-461b-c2b9-18bac21c94be"
      },
      "outputs": [
        {
          "output_type": "stream",
          "name": "stdout",
          "text": [
            "It's raining outside\n",
            "It\\'s raining outside\n"
          ]
        }
      ],
      "source": [
        "line_1 = 'It\\'s raining outside'\n",
        "print(line_1)\n",
        "\n",
        "line_1 = r'It\\'s raining outside'\n",
        "print(line_1)"
      ]
    },
    {
      "cell_type": "markdown",
      "metadata": {
        "id": "bg_d8wM4z8dS"
      },
      "source": [
        "7. Створити змінну, що буде посилатися на Ваше прізвище латинкою. Створити форматований рядок, який буде мати вигляд \"My surname is ______\", де на місці нижніх підкреслень буде Ваше прізвище зі змінної."
      ]
    },
    {
      "cell_type": "code",
      "execution_count": 33,
      "metadata": {
        "id": "kuxFgpWndACq",
        "colab": {
          "base_uri": "https://localhost:8080/"
        },
        "outputId": "43e48135-58f6-45a4-e50d-486df3ab1077"
      },
      "outputs": [
        {
          "output_type": "stream",
          "name": "stdout",
          "text": [
            "My surname is Ishchuk\n"
          ]
        }
      ],
      "source": [
        "last_name = \"Ishchuk\"\n",
        "f_string = f\"My surname is {last_name}\"\n",
        "print(f_string)"
      ]
    },
    {
      "cell_type": "markdown",
      "metadata": {
        "id": "1Nc6RqvQ0hxU"
      },
      "source": [
        "8. Маючи рядок \"My dog is crazy.\" перетворити його на список [\"my\", \"dog\", \"is\", \"crazy\"]"
      ]
    },
    {
      "cell_type": "code",
      "execution_count": 32,
      "metadata": {
        "id": "w1Ya4RqedUhw",
        "colab": {
          "base_uri": "https://localhost:8080/"
        },
        "outputId": "4ddaa26a-9ddc-4b99-ba05-f77677a2c1d8"
      },
      "outputs": [
        {
          "output_type": "stream",
          "name": "stdout",
          "text": [
            "My dog is crazy.\n",
            "['My', 'dog', 'is', 'crazy.']\n"
          ]
        }
      ],
      "source": [
        "my_line=\"My dog is crazy.\"\n",
        "print(my_line)\n",
        "\n",
        "my_line_two = my_line.split()\n",
        "print(my_line_two)"
      ]
    },
    {
      "cell_type": "markdown",
      "metadata": {
        "id": "GYVqN9uP1D4n"
      },
      "source": [
        "# IV. Робота зі списками."
      ]
    },
    {
      "cell_type": "markdown",
      "metadata": {
        "id": "7-DeDunw2sO-"
      },
      "source": [
        "9. Створити список двома різними за синтаксисом способами. За допомогою вбудованої функції обчисліть довжину одного з них."
      ]
    },
    {
      "cell_type": "code",
      "execution_count": 44,
      "metadata": {
        "id": "zxg06Uuxdyoh",
        "colab": {
          "base_uri": "https://localhost:8080/"
        },
        "outputId": "5b21b173-0d08-4ef9-dd04-b16c7797f0d1"
      },
      "outputs": [
        {
          "output_type": "stream",
          "name": "stdout",
          "text": [
            "List:  [1, 2, 3, 4, 5, 6, 7, 8, 9]\n",
            "Total Elements 9\n"
          ]
        }
      ],
      "source": [
        "list_one =[1, 5, 4, 3, 5, 7]\n",
        "list_two =list(range(1, 10))\n",
        "\n",
        "print(\"List: \", list_two)\n",
        "\n",
        "print(\"Total Elements\" , len(list_two))"
      ]
    },
    {
      "cell_type": "markdown",
      "metadata": {
        "id": "8vmGUTjL22gI"
      },
      "source": [
        "10. Створіть два списка та за допомогою спеціального методу додайте другий з них в якості останнього елемента першого."
      ]
    },
    {
      "cell_type": "code",
      "execution_count": 38,
      "metadata": {
        "id": "uHtjWYw7d7hm",
        "colab": {
          "base_uri": "https://localhost:8080/"
        },
        "outputId": "d848ccf2-bfd3-44b1-a92a-3de6b1853743"
      },
      "outputs": [
        {
          "output_type": "stream",
          "name": "stdout",
          "text": [
            "[5, 6, 7, 8, 4]\n"
          ]
        }
      ],
      "source": [
        "numbers =[1, 2, 3, 4 ]\n",
        "numbers_2 =[5, 6, 7, 8 ]\n",
        "\n",
        "numbers_2 .append(4)\n",
        "print(numbers_2)\n"
      ]
    },
    {
      "cell_type": "markdown",
      "metadata": {
        "id": "JC3BkD-67_--"
      },
      "source": [
        "11. Створіть список, де елементами цього списку також є списки. Отримай перший елемент з останнього рядка та виведи значення на екран."
      ]
    },
    {
      "cell_type": "code",
      "execution_count": 150,
      "metadata": {
        "id": "Kz2jZHsGeLlz",
        "colab": {
          "base_uri": "https://localhost:8080/"
        },
        "outputId": "7ac33658-4e19-4cf8-82fa-5dea19c85f50"
      },
      "outputs": [
        {
          "output_type": "stream",
          "name": "stdout",
          "text": [
            "3\n"
          ]
        }
      ],
      "source": [
        "General_list_of_lists_numbers =[\n",
        "[1, 3, 5],\n",
        "[6, 2, 4],\n",
        "[8, 9, 0],\n",
        "[3, 7, 4]\n",
        "]\n",
        "\n",
        "Last_number = General_list_of_lists_numbers[-1][0]\n",
        "\n",
        "print(Last_number)"
      ]
    },
    {
      "cell_type": "markdown",
      "metadata": {
        "id": "JA47PKTv8zFK"
      },
      "source": [
        "12. Створіть список з десяти елементів різного типу. Отримайте всі елементи, окрім двох перших та двох останніх та збережіть їх в новій змінній."
      ]
    },
    {
      "cell_type": "code",
      "execution_count": 121,
      "metadata": {
        "id": "_rHdUR-ueP4-",
        "colab": {
          "base_uri": "https://localhost:8080/"
        },
        "outputId": "6920189c-23a7-477b-decf-779eed860893"
      },
      "outputs": [
        {
          "output_type": "stream",
          "name": "stdout",
          "text": [
            "[(2+4j), 'Number', False, 'World', 50, {1, 2, 3}]\n"
          ]
        }
      ],
      "source": [
        "List =[8, 1.5, 2+4j, \"Number\", False, \"World\", 50, {1, 2, 3}, 3.4, (1,2,3)]\n",
        "List_2= List[2:-2]\n",
        "print(List_2)"
      ]
    },
    {
      "cell_type": "markdown",
      "metadata": {
        "id": "pCjR1dJb1Qbi"
      },
      "source": [
        "# V. Робота з кортежами."
      ]
    },
    {
      "cell_type": "markdown",
      "metadata": {
        "id": "fAZCxAX06R_k"
      },
      "source": [
        "14. Створити кортеж з один елементом."
      ]
    },
    {
      "cell_type": "code",
      "execution_count": 11,
      "metadata": {
        "id": "H7d82WkQev3e",
        "colab": {
          "base_uri": "https://localhost:8080/"
        },
        "outputId": "fef4a4a4-72da-4a55-b412-54847d4e97ab"
      },
      "outputs": [
        {
          "output_type": "stream",
          "name": "stdout",
          "text": [
            "<class 'str'>\n",
            "<class 'tuple'>\n"
          ]
        }
      ],
      "source": [
        "var1 = (\"hello\")\n",
        "print(type(var1))\n",
        "\n",
        "var2 = (\"hello\",)\n",
        "print(type(var2))\n"
      ]
    },
    {
      "cell_type": "markdown",
      "metadata": {
        "id": "8LCtYcmI6w1M"
      },
      "source": [
        "15. Порівняйте список та кортеж. Назвіть схожості та відмінності, випадки використання."
      ]
    },
    {
      "cell_type": "markdown",
      "metadata": {
        "id": "fUsN1Hnue0C6"
      },
      "source": [
        "**Основні схожості:**\n",
        "*  Впорядкованність;\n",
        "*  Можуть містити повторювані значення;\n",
        "*  Індексація;\n",
        "*  Ітерація.\n",
        "\n",
        "**Основні відмінності**:\n",
        "*  Списки змінні, кортежі незмінні;\n",
        "*  Кортеж біль ефективний за швидкість;\n",
        "*  Списки споживають більше памяті;\n",
        "*  Несподівані помилки зазвичай трапляються в списках. В кортежах зазвичай не відбуваються через незмінність.\n",
        "\n",
        "**Використання:**\n",
        "*  Кортежі використовують, коли потрібні фіксовані набори обьектів.\n",
        "\n",
        "*   Кортежі є важливими, коли задача потребує підтримку цілосності. Наприклад, кортежі часто використовуються в ключах словника в Python.\n",
        "\n",
        "*  Списки можуть містити різноманітні типи даних, можна отримати їх за допомогою індексу списку.\n",
        "\n",
        "*   Списки корисні для виконання обчислень на колекції елементів, оскільки Python дозволяє робити це безпосередньо зі списку.\n",
        "\n",
        "\n",
        "\n",
        "\n",
        "\n",
        "\n",
        "\n",
        "\n",
        "\n",
        "\n",
        "\n"
      ]
    },
    {
      "cell_type": "markdown",
      "metadata": {
        "id": "m0xrwFijAmDD"
      },
      "source": [
        "16. Створіть кортеж з 11ти елементів чисел з рухомою комою та отримайте кожен парний за індексом елемент в зворотньому порядку. Наприклад, маючи (1.2, 2.3, 3.3, 4.3, 5.3, 6.3, 7.3, 8.3, 9.3, 0.3), отримати (0.3, 8.3, 6.3, 4.3, 2.3). Результат збережіть в нову змінну та виведіть на екран."
      ]
    },
    {
      "cell_type": "code",
      "execution_count": 105,
      "metadata": {
        "id": "p-5DAH6XfAGA",
        "colab": {
          "base_uri": "https://localhost:8080/"
        },
        "outputId": "94ef1248-528c-41b5-eae2-8249b62c0b3d"
      },
      "outputs": [
        {
          "output_type": "stream",
          "name": "stdout",
          "text": [
            "(0.3, 8.3, 6.3, 4.3, 2.3)\n"
          ]
        }
      ],
      "source": [
        "tuple = (1.2, 2.3, 3.3, 4.3, 5.3, 6.3, 7.3, 8.3, 9.3, 0.3)\n",
        "new_tuple = tuple[::-2]\n",
        "\n",
        "print(new_tuple)"
      ]
    },
    {
      "cell_type": "markdown",
      "metadata": {
        "id": "rW_I9dt3x6cW"
      },
      "source": [
        "# VI. Множини (Set)."
      ]
    },
    {
      "cell_type": "markdown",
      "metadata": {
        "id": "zNjRLHLw1Bgg"
      },
      "source": [
        "17. Створити множину без елементів. Після цого за допомогою методу додайте кілька різних елементів до множини. Чи множини є змінним типом даних?"
      ]
    },
    {
      "cell_type": "code",
      "execution_count": 16,
      "metadata": {
        "id": "KOv7zc2Kfo4N",
        "colab": {
          "base_uri": "https://localhost:8080/"
        },
        "outputId": "e78331ac-0173-4d30-a170-cfafbec3242f"
      },
      "outputs": [
        {
          "output_type": "stream",
          "name": "stdout",
          "text": [
            "set()\n",
            "{2, 3, 4, 5, 7, 9}\n"
          ]
        }
      ],
      "source": [
        "numbers = set()\n",
        "print(numbers)\n",
        "\n",
        "numbers.update([2, 3, 4, 5, 7, 9])\n",
        "print(numbers)"
      ]
    },
    {
      "cell_type": "markdown",
      "metadata": {
        "id": "vxS6dVYiftZQ"
      },
      "source": [
        "Множини є змінним типом даних, оскільки за допомогою різних методів, можна додавати, видаляти та змінювати елементи після їх створення."
      ]
    },
    {
      "cell_type": "markdown",
      "metadata": {
        "id": "gHpT0Zw_1HEF"
      },
      "source": [
        "18. Створити множину, маючи список my_list = [1, 1, 2, 67, 67, 8, 9]. Пояснити, чому \"зникли\" деякі елементи."
      ]
    },
    {
      "cell_type": "code",
      "execution_count": 9,
      "metadata": {
        "id": "qCN4uvJ_fxmu",
        "colab": {
          "base_uri": "https://localhost:8080/"
        },
        "outputId": "5abe2ff6-8b17-4ffd-a459-dc8b0374feb5"
      },
      "outputs": [
        {
          "output_type": "stream",
          "name": "stdout",
          "text": [
            "{1, 2, 67, 8, 9}\n"
          ]
        }
      ],
      "source": [
        "my_list = set([1, 1, 2, 67, 67, 8, 9])\n",
        "print(my_list)\n"
      ]
    },
    {
      "cell_type": "markdown",
      "metadata": {
        "id": "6yOlnex1P6dy"
      },
      "source": [
        "18. Створити множину, маючи список my_list = [1, 1, 2, 67, 67, 8, 9]. Пояснити, чому \"зникли\" деякі елементи."
      ]
    },
    {
      "cell_type": "markdown",
      "metadata": {
        "id": "tFNc1e20fyny"
      },
      "source": [
        "*Деякі елементи зникли, бо множина- це невпорядкований набір унікальних елементів."
      ]
    },
    {
      "cell_type": "markdown",
      "metadata": {
        "id": "SRMkGizS1UwY"
      },
      "source": [
        "19. Створіть дві множини. Продемонстуйте над ними операції: обʼєднання, різниці, пересічі та симетричної різниці. Використовуйте методи, що не змінюють множини, а створюють нові."
      ]
    },
    {
      "cell_type": "code",
      "execution_count": 91,
      "metadata": {
        "id": "h0T-VuDnf3Ri",
        "colab": {
          "base_uri": "https://localhost:8080/"
        },
        "outputId": "2461d321-49ee-4727-c157-bb00ac417863"
      },
      "outputs": [
        {
          "output_type": "stream",
          "name": "stdout",
          "text": [
            "Union using |: {1, 2, 3, 4, 5, 6, 7, 8, 9, 10}\n",
            "Difference using -:  {8, 9, 3, 4}\n",
            "Intersection using & : {2, 5}\n",
            "using ^: {1, 3, 4, 6, 7, 8, 9, 10}\n"
          ]
        }
      ],
      "source": [
        "A={2, 5, 8, 9, 4, 3}\n",
        "B={2, 6, 7, 5, 10, 1}\n",
        "\n",
        "print(\"Union using |:\", A | B)\n",
        "\n",
        "print(\"Difference using -: \", A - B)\n",
        "\n",
        "print(\"Intersection using & :\", A & B)\n",
        "\n",
        "print(\"using ^:\" , A ^ B)"
      ]
    },
    {
      "cell_type": "markdown",
      "metadata": {
        "id": "kWc8gkzTx7Ea"
      },
      "source": [
        "# VII. Словники (Dictionary)."
      ]
    },
    {
      "cell_type": "markdown",
      "metadata": {
        "id": "i5FLwj-B2ybQ"
      },
      "source": [
        "20. Створіть пустий словник. До нього додайте чотири пари елементів такі, щоб їхні ключі були різних типів. Чи може список бути ключем? Чому?"
      ]
    },
    {
      "cell_type": "code",
      "execution_count": 113,
      "metadata": {
        "id": "hxgv3BzrgLAV",
        "colab": {
          "base_uri": "https://localhost:8080/"
        },
        "outputId": "05300d62-9367-492c-fa84-f27b13980a58"
      },
      "outputs": [
        {
          "output_type": "stream",
          "name": "stdout",
          "text": [
            "{1: 26, 2: 'number', 3: 7.9, 4: [6, 7, 8]}\n"
          ]
        }
      ],
      "source": [
        "dict = {}\n",
        "\n",
        "dict[1] = 26\n",
        "dict[2] = \"number\"\n",
        "dict[3] = 7.9\n",
        "dict[4] =[6, 7, 8]\n",
        "\n",
        "print(dict)\n"
      ]
    },
    {
      "cell_type": "markdown",
      "metadata": {
        "id": "zwa7UVN-gR3m"
      },
      "source": [
        "Список не може бути ключем, оскільки в списку можна додавати або видаляти елементи. Але можна використовувати кортеж, тому що він є незмінним."
      ]
    },
    {
      "cell_type": "markdown",
      "metadata": {
        "id": "WM_pMlJsgoNf"
      },
      "source": [
        "21. Створіть словник, де значенням в одній з пар теж буде словник, який теж має вкладений словник. Виведіть на екран значення, що міститься в словнику, що знаходиться на найнижчому рівні ієрархії вкладеності (найбільш внутрішній)."
      ]
    },
    {
      "cell_type": "code",
      "execution_count": 151,
      "metadata": {
        "id": "60dlP7IHhAy4",
        "colab": {
          "base_uri": "https://localhost:8080/"
        },
        "outputId": "4bbf221c-63b8-4038-8bb4-c0f2f62cae46"
      },
      "outputs": [
        {
          "output_type": "stream",
          "name": "stdout",
          "text": [
            "Brown\n"
          ]
        }
      ],
      "source": [
        "nested_dict = {\n",
        "    \"age\": \"18\",\n",
        "    \"Data\": {\n",
        "        \"Name\": \"Mary\",\n",
        "        \"Surname\": {\n",
        "            \"maiden name\": \"Brown\"\n",
        "        }\n",
        "    },\n",
        "    \"sex\": \"Female\"\n",
        "}\n",
        "\n",
        "innermost_value = nested_dict['Data']['Surname']['maiden name']\n",
        "print(innermost_value)\n"
      ]
    },
    {
      "cell_type": "markdown",
      "metadata": {
        "id": "xOZP0hkx6cCr"
      },
      "source": [
        "# Вітаю! Ви велика(ий) молодець, що впоралась(вся). Похваліть себе та побалуйте чимось приємним. Я Вами пишаюся."
      ]
    }
  ],
  "metadata": {
    "colab": {
      "provenance": [],
      "history_visible": true,
      "include_colab_link": true
    },
    "kernelspec": {
      "display_name": "Python 3",
      "name": "python3"
    },
    "language_info": {
      "name": "python"
    }
  },
  "nbformat": 4,
  "nbformat_minor": 0
}